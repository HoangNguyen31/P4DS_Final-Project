{
 "cells": [
  {
   "cell_type": "markdown",
   "id": "a8b7ae6f",
   "metadata": {},
   "source": [
    "# ĐỒ ÁN THỰC HÀNH"
   ]
  },
  {
   "cell_type": "markdown",
   "id": "97f94de6",
   "metadata": {},
   "source": [
    "# A. Thu nhập dữ liệu\n",
    "1. Chủ đề của dữ liệu là gì và được lấy từ nguồn nào?\n",
    "- Tên chủ đề: Mức lương cho công việc Khoa học Dữ liệu (Data Science Job Salaries).\n",
    "- Nguồn dữ liệu: [tại đây](https://salaries.ai-jobs.net/)\n",
    "2. Tác giả có cho phép sử dụng dữ liệu này không?\n",
    "- Toàn bộ bộ dữ liệu được công bố trong phạm vi công cộng theo giấy phép CC0 (Public Domain).\n",
    "3. Tác giả thu thập dữ liệu như thế nào?\n",
    "- Trang web cung cấp cho người dùng một biểu mẫu ngắn để trả lời khảo sát về công việc và mức lương hiện tại trong lĩnh vực Khoa học dữ liệu"
   ]
  },
  {
   "cell_type": "code",
   "execution_count": 1,
   "id": "74f6ed16",
   "metadata": {},
   "outputs": [],
   "source": [
    "import numpy as np\n",
    "import pandas as pd\n",
    "import matplotlib.pyplot as plt\n",
    "import seaborn as sns"
   ]
  },
  {
   "cell_type": "markdown",
   "id": "b997f3e8",
   "metadata": {},
   "source": [
    "# B. Khám phá dữ liệu"
   ]
  },
  {
   "cell_type": "markdown",
   "id": "1030bee6",
   "metadata": {},
   "source": [
    "## 1. Đọc dữ liệu"
   ]
  },
  {
   "cell_type": "code",
   "execution_count": 2,
   "id": "e5eec06a",
   "metadata": {},
   "outputs": [
    {
     "data": {
      "text/html": [
       "<div>\n",
       "<style scoped>\n",
       "    .dataframe tbody tr th:only-of-type {\n",
       "        vertical-align: middle;\n",
       "    }\n",
       "\n",
       "    .dataframe tbody tr th {\n",
       "        vertical-align: top;\n",
       "    }\n",
       "\n",
       "    .dataframe thead th {\n",
       "        text-align: right;\n",
       "    }\n",
       "</style>\n",
       "<table border=\"1\" class=\"dataframe\">\n",
       "  <thead>\n",
       "    <tr style=\"text-align: right;\">\n",
       "      <th></th>\n",
       "      <th>work_year</th>\n",
       "      <th>experience_level</th>\n",
       "      <th>employment_type</th>\n",
       "      <th>job_title</th>\n",
       "      <th>salary</th>\n",
       "      <th>salary_currency</th>\n",
       "      <th>salary_in_usd</th>\n",
       "      <th>employee_residence</th>\n",
       "      <th>remote_ratio</th>\n",
       "      <th>company_location</th>\n",
       "      <th>company_size</th>\n",
       "    </tr>\n",
       "  </thead>\n",
       "  <tbody>\n",
       "    <tr>\n",
       "      <th>0</th>\n",
       "      <td>2023</td>\n",
       "      <td>SE</td>\n",
       "      <td>FT</td>\n",
       "      <td>Data Modeler</td>\n",
       "      <td>258700</td>\n",
       "      <td>USD</td>\n",
       "      <td>258700</td>\n",
       "      <td>US</td>\n",
       "      <td>0</td>\n",
       "      <td>US</td>\n",
       "      <td>M</td>\n",
       "    </tr>\n",
       "    <tr>\n",
       "      <th>1</th>\n",
       "      <td>2023</td>\n",
       "      <td>SE</td>\n",
       "      <td>FT</td>\n",
       "      <td>Data Modeler</td>\n",
       "      <td>146600</td>\n",
       "      <td>USD</td>\n",
       "      <td>146600</td>\n",
       "      <td>US</td>\n",
       "      <td>0</td>\n",
       "      <td>US</td>\n",
       "      <td>M</td>\n",
       "    </tr>\n",
       "    <tr>\n",
       "      <th>2</th>\n",
       "      <td>2023</td>\n",
       "      <td>MI</td>\n",
       "      <td>FT</td>\n",
       "      <td>Data Science Manager</td>\n",
       "      <td>190000</td>\n",
       "      <td>USD</td>\n",
       "      <td>190000</td>\n",
       "      <td>US</td>\n",
       "      <td>100</td>\n",
       "      <td>US</td>\n",
       "      <td>M</td>\n",
       "    </tr>\n",
       "    <tr>\n",
       "      <th>3</th>\n",
       "      <td>2023</td>\n",
       "      <td>MI</td>\n",
       "      <td>FT</td>\n",
       "      <td>Data Science Manager</td>\n",
       "      <td>160000</td>\n",
       "      <td>USD</td>\n",
       "      <td>160000</td>\n",
       "      <td>US</td>\n",
       "      <td>100</td>\n",
       "      <td>US</td>\n",
       "      <td>M</td>\n",
       "    </tr>\n",
       "    <tr>\n",
       "      <th>4</th>\n",
       "      <td>2023</td>\n",
       "      <td>EN</td>\n",
       "      <td>FT</td>\n",
       "      <td>Research Analyst</td>\n",
       "      <td>90000</td>\n",
       "      <td>USD</td>\n",
       "      <td>90000</td>\n",
       "      <td>US</td>\n",
       "      <td>100</td>\n",
       "      <td>US</td>\n",
       "      <td>M</td>\n",
       "    </tr>\n",
       "  </tbody>\n",
       "</table>\n",
       "</div>"
      ],
      "text/plain": [
       "   work_year experience_level employment_type             job_title  salary  \\\n",
       "0       2023               SE              FT          Data Modeler  258700   \n",
       "1       2023               SE              FT          Data Modeler  146600   \n",
       "2       2023               MI              FT  Data Science Manager  190000   \n",
       "3       2023               MI              FT  Data Science Manager  160000   \n",
       "4       2023               EN              FT      Research Analyst   90000   \n",
       "\n",
       "  salary_currency  salary_in_usd employee_residence  remote_ratio  \\\n",
       "0             USD         258700                 US             0   \n",
       "1             USD         146600                 US             0   \n",
       "2             USD         190000                 US           100   \n",
       "3             USD         160000                 US           100   \n",
       "4             USD          90000                 US           100   \n",
       "\n",
       "  company_location company_size  \n",
       "0               US            M  \n",
       "1               US            M  \n",
       "2               US            M  \n",
       "3               US            M  \n",
       "4               US            M  "
      ]
     },
     "execution_count": 2,
     "metadata": {},
     "output_type": "execute_result"
    }
   ],
   "source": [
    "df = pd.read_csv(\"./data/salaries.csv\")\n",
    "df.head()"
   ]
  },
  {
   "cell_type": "markdown",
   "id": "0315f41a",
   "metadata": {},
   "source": [
    "## 2. Kích thước dữ liệu"
   ]
  },
  {
   "cell_type": "code",
   "execution_count": 3,
   "id": "5014a956",
   "metadata": {},
   "outputs": [
    {
     "name": "stdout",
     "output_type": "stream",
     "text": [
      "Số dòng: 10456\n",
      "Số cột: 11\n"
     ]
    }
   ],
   "source": [
    "num_rows, num_cols = df.shape\n",
    "print(\"Số dòng:\", num_rows)\n",
    "print(\"Số cột:\", num_cols)"
   ]
  },
  {
   "cell_type": "markdown",
   "id": "4f9acece",
   "metadata": {},
   "source": [
    "## 3. Ý nghĩa từng dòng dữ liệu\n",
    "- Mỗi dòng dữ liệu là thông tin về công ty và công việc của người khảo sát."
   ]
  },
  {
   "cell_type": "markdown",
   "id": "8e0c78a9",
   "metadata": {},
   "source": [
    "## 4. Dữ liệu có các dòng bị lặp không?"
   ]
  },
  {
   "cell_type": "code",
   "execution_count": 4,
   "id": "1a81abea",
   "metadata": {},
   "outputs": [
    {
     "data": {
      "text/plain": [
       "True"
      ]
     },
     "execution_count": 4,
     "metadata": {},
     "output_type": "execute_result"
    }
   ],
   "source": [
    "have_duplicate_rows = df.duplicated().any()\n",
    "have_duplicate_rows"
   ]
  },
  {
   "cell_type": "markdown",
   "id": "9bbf6d6a",
   "metadata": {},
   "source": [
    "## 5. Ý nghĩa từng cột dữ liệu"
   ]
  },
  {
   "cell_type": "code",
   "execution_count": 5,
   "id": "282fecad",
   "metadata": {
    "scrolled": true
   },
   "outputs": [
    {
     "name": "stdout",
     "output_type": "stream",
     "text": [
      "Dữ liệu có 11 cột\n",
      "Ý nghĩa các cột:\n",
      " ['work_year', 'experience_level', 'employment_type', 'job_title', 'salary', 'salary_currency', 'salary_in_usd', 'employee_residence', 'remote_ratio', 'company_location', 'company_size']\n"
     ]
    }
   ],
   "source": [
    "print(f\"Dữ liệu có {len(df.columns)} cột\")\n",
    "print(\"Ý nghĩa các cột:\\n\", list(df.columns))"
   ]
  },
  {
   "cell_type": "markdown",
   "id": "09030072",
   "metadata": {},
   "source": [
    "## 6. Kiểu dữ liệu của mỗi cột dữ liệu. Có cột nào có kiểu dữ liệu không phù hợp không?"
   ]
  },
  {
   "cell_type": "code",
   "execution_count": 6,
   "id": "2afbc5f7",
   "metadata": {},
   "outputs": [
    {
     "data": {
      "text/plain": [
       "work_year              int64\n",
       "experience_level      object\n",
       "employment_type       object\n",
       "job_title             object\n",
       "salary                 int64\n",
       "salary_currency       object\n",
       "salary_in_usd          int64\n",
       "employee_residence    object\n",
       "remote_ratio           int64\n",
       "company_location      object\n",
       "company_size          object\n",
       "dtype: object"
      ]
     },
     "execution_count": 6,
     "metadata": {},
     "output_type": "execute_result"
    }
   ],
   "source": [
    "df.dtypes"
   ]
  },
  {
   "cell_type": "markdown",
   "id": "291b32a7",
   "metadata": {},
   "source": [
    "- Các thuộc tính của tập dữ liệu đa phần đã ở định dạng phù hợp."
   ]
  },
  {
   "cell_type": "markdown",
   "id": "00eebc0f",
   "metadata": {},
   "source": [
    "## 7. Với mỗi cột mang giá trị số, các giá trị được phân bố như thế nào?"
   ]
  },
  {
   "cell_type": "code",
   "execution_count": 7,
   "id": "4a1ebfea",
   "metadata": {},
   "outputs": [
    {
     "data": {
      "text/html": [
       "<div>\n",
       "<style scoped>\n",
       "    .dataframe tbody tr th:only-of-type {\n",
       "        vertical-align: middle;\n",
       "    }\n",
       "\n",
       "    .dataframe tbody tr th {\n",
       "        vertical-align: top;\n",
       "    }\n",
       "\n",
       "    .dataframe thead th {\n",
       "        text-align: right;\n",
       "    }\n",
       "</style>\n",
       "<table border=\"1\" class=\"dataframe\">\n",
       "  <thead>\n",
       "    <tr style=\"text-align: right;\">\n",
       "      <th></th>\n",
       "      <th>work_year</th>\n",
       "      <th>salary</th>\n",
       "      <th>salary_in_usd</th>\n",
       "      <th>remote_ratio</th>\n",
       "    </tr>\n",
       "  </thead>\n",
       "  <tbody>\n",
       "    <tr>\n",
       "      <th>0</th>\n",
       "      <td>2023</td>\n",
       "      <td>258700</td>\n",
       "      <td>258700</td>\n",
       "      <td>0</td>\n",
       "    </tr>\n",
       "    <tr>\n",
       "      <th>1</th>\n",
       "      <td>2023</td>\n",
       "      <td>146600</td>\n",
       "      <td>146600</td>\n",
       "      <td>0</td>\n",
       "    </tr>\n",
       "    <tr>\n",
       "      <th>2</th>\n",
       "      <td>2023</td>\n",
       "      <td>190000</td>\n",
       "      <td>190000</td>\n",
       "      <td>100</td>\n",
       "    </tr>\n",
       "    <tr>\n",
       "      <th>3</th>\n",
       "      <td>2023</td>\n",
       "      <td>160000</td>\n",
       "      <td>160000</td>\n",
       "      <td>100</td>\n",
       "    </tr>\n",
       "    <tr>\n",
       "      <th>4</th>\n",
       "      <td>2023</td>\n",
       "      <td>90000</td>\n",
       "      <td>90000</td>\n",
       "      <td>100</td>\n",
       "    </tr>\n",
       "  </tbody>\n",
       "</table>\n",
       "</div>"
      ],
      "text/plain": [
       "   work_year  salary  salary_in_usd  remote_ratio\n",
       "0       2023  258700         258700             0\n",
       "1       2023  146600         146600             0\n",
       "2       2023  190000         190000           100\n",
       "3       2023  160000         160000           100\n",
       "4       2023   90000          90000           100"
      ]
     },
     "execution_count": 7,
     "metadata": {},
     "output_type": "execute_result"
    }
   ],
   "source": [
    "numerical_df = df.select_dtypes(include=[\"int64\", \"float64\"])\n",
    "numerical_df.head()"
   ]
  },
  {
   "cell_type": "markdown",
   "id": "4a8349d1",
   "metadata": {},
   "source": [
    "### 7.1. Phần trăm giá trị còn thiếu là bao nhiêu?"
   ]
  },
  {
   "cell_type": "code",
   "execution_count": 8,
   "id": "3ebb83f8",
   "metadata": {},
   "outputs": [
    {
     "name": "stdout",
     "output_type": "stream",
     "text": [
      "Tỷ lệ phần trăm giá trị thiếu cho mỗi thuộc tính số:\n",
      "work_year        0.0\n",
      "salary           0.0\n",
      "salary_in_usd    0.0\n",
      "remote_ratio     0.0\n",
      "dtype: float64\n"
     ]
    }
   ],
   "source": [
    "numerical_df_null = (numerical_df.isnull().sum() / len(df)) * 100\n",
    "\n",
    "print(\"Tỷ lệ phần trăm giá trị thiếu cho mỗi thuộc tính số:\")\n",
    "print(numerical_df_null)"
   ]
  },
  {
   "cell_type": "markdown",
   "id": "96aad7dc",
   "metadata": {},
   "source": [
    "### 7.2. Giá trị nhỏ nhất? Giá trị lớn nhất? Các giá trị này có gì bất thường không?"
   ]
  },
  {
   "cell_type": "code",
   "execution_count": 9,
   "id": "65ef7160",
   "metadata": {},
   "outputs": [
    {
     "data": {
      "text/html": [
       "<div>\n",
       "<style scoped>\n",
       "    .dataframe tbody tr th:only-of-type {\n",
       "        vertical-align: middle;\n",
       "    }\n",
       "\n",
       "    .dataframe tbody tr th {\n",
       "        vertical-align: top;\n",
       "    }\n",
       "\n",
       "    .dataframe thead th {\n",
       "        text-align: right;\n",
       "    }\n",
       "</style>\n",
       "<table border=\"1\" class=\"dataframe\">\n",
       "  <thead>\n",
       "    <tr style=\"text-align: right;\">\n",
       "      <th></th>\n",
       "      <th>work_year</th>\n",
       "      <th>salary</th>\n",
       "      <th>salary_in_usd</th>\n",
       "      <th>remote_ratio</th>\n",
       "    </tr>\n",
       "  </thead>\n",
       "  <tbody>\n",
       "    <tr>\n",
       "      <th>count</th>\n",
       "      <td>10456.000000</td>\n",
       "      <td>1.045600e+04</td>\n",
       "      <td>10456.000000</td>\n",
       "      <td>10456.00000</td>\n",
       "    </tr>\n",
       "    <tr>\n",
       "      <th>mean</th>\n",
       "      <td>2022.778883</td>\n",
       "      <td>1.704655e+05</td>\n",
       "      <td>149263.499904</td>\n",
       "      <td>36.49101</td>\n",
       "    </tr>\n",
       "    <tr>\n",
       "      <th>std</th>\n",
       "      <td>0.506937</td>\n",
       "      <td>4.195989e+05</td>\n",
       "      <td>65269.393738</td>\n",
       "      <td>47.58074</td>\n",
       "    </tr>\n",
       "    <tr>\n",
       "      <th>min</th>\n",
       "      <td>2020.000000</td>\n",
       "      <td>1.400000e+04</td>\n",
       "      <td>15000.000000</td>\n",
       "      <td>0.00000</td>\n",
       "    </tr>\n",
       "    <tr>\n",
       "      <th>25%</th>\n",
       "      <td>2023.000000</td>\n",
       "      <td>1.050000e+05</td>\n",
       "      <td>104640.250000</td>\n",
       "      <td>0.00000</td>\n",
       "    </tr>\n",
       "    <tr>\n",
       "      <th>50%</th>\n",
       "      <td>2023.000000</td>\n",
       "      <td>1.430000e+05</td>\n",
       "      <td>142200.000000</td>\n",
       "      <td>0.00000</td>\n",
       "    </tr>\n",
       "    <tr>\n",
       "      <th>75%</th>\n",
       "      <td>2023.000000</td>\n",
       "      <td>1.882750e+05</td>\n",
       "      <td>185900.000000</td>\n",
       "      <td>100.00000</td>\n",
       "    </tr>\n",
       "    <tr>\n",
       "      <th>max</th>\n",
       "      <td>2023.000000</td>\n",
       "      <td>3.040000e+07</td>\n",
       "      <td>750000.000000</td>\n",
       "      <td>100.00000</td>\n",
       "    </tr>\n",
       "  </tbody>\n",
       "</table>\n",
       "</div>"
      ],
      "text/plain": [
       "          work_year        salary  salary_in_usd  remote_ratio\n",
       "count  10456.000000  1.045600e+04   10456.000000   10456.00000\n",
       "mean    2022.778883  1.704655e+05  149263.499904      36.49101\n",
       "std        0.506937  4.195989e+05   65269.393738      47.58074\n",
       "min     2020.000000  1.400000e+04   15000.000000       0.00000\n",
       "25%     2023.000000  1.050000e+05  104640.250000       0.00000\n",
       "50%     2023.000000  1.430000e+05  142200.000000       0.00000\n",
       "75%     2023.000000  1.882750e+05  185900.000000     100.00000\n",
       "max     2023.000000  3.040000e+07  750000.000000     100.00000"
      ]
     },
     "execution_count": 9,
     "metadata": {},
     "output_type": "execute_result"
    }
   ],
   "source": [
    "numerical_df.describe()"
   ]
  },
  {
   "cell_type": "markdown",
   "id": "6e04c7c1",
   "metadata": {},
   "source": [
    "- Các giá trị không có gì là bất thường."
   ]
  },
  {
   "cell_type": "markdown",
   "id": "24065c0d",
   "metadata": {},
   "source": [
    "## 8. Với mỗi cột mang giá trị phân loại, các giá trị được phân bố như thế nào?"
   ]
  },
  {
   "cell_type": "code",
   "execution_count": 10,
   "id": "8d4986ee",
   "metadata": {},
   "outputs": [
    {
     "data": {
      "text/html": [
       "<div>\n",
       "<style scoped>\n",
       "    .dataframe tbody tr th:only-of-type {\n",
       "        vertical-align: middle;\n",
       "    }\n",
       "\n",
       "    .dataframe tbody tr th {\n",
       "        vertical-align: top;\n",
       "    }\n",
       "\n",
       "    .dataframe thead th {\n",
       "        text-align: right;\n",
       "    }\n",
       "</style>\n",
       "<table border=\"1\" class=\"dataframe\">\n",
       "  <thead>\n",
       "    <tr style=\"text-align: right;\">\n",
       "      <th></th>\n",
       "      <th>experience_level</th>\n",
       "      <th>employment_type</th>\n",
       "      <th>job_title</th>\n",
       "      <th>salary_currency</th>\n",
       "      <th>employee_residence</th>\n",
       "      <th>company_location</th>\n",
       "      <th>company_size</th>\n",
       "    </tr>\n",
       "  </thead>\n",
       "  <tbody>\n",
       "    <tr>\n",
       "      <th>0</th>\n",
       "      <td>SE</td>\n",
       "      <td>FT</td>\n",
       "      <td>Data Modeler</td>\n",
       "      <td>USD</td>\n",
       "      <td>US</td>\n",
       "      <td>US</td>\n",
       "      <td>M</td>\n",
       "    </tr>\n",
       "    <tr>\n",
       "      <th>1</th>\n",
       "      <td>SE</td>\n",
       "      <td>FT</td>\n",
       "      <td>Data Modeler</td>\n",
       "      <td>USD</td>\n",
       "      <td>US</td>\n",
       "      <td>US</td>\n",
       "      <td>M</td>\n",
       "    </tr>\n",
       "    <tr>\n",
       "      <th>2</th>\n",
       "      <td>MI</td>\n",
       "      <td>FT</td>\n",
       "      <td>Data Science Manager</td>\n",
       "      <td>USD</td>\n",
       "      <td>US</td>\n",
       "      <td>US</td>\n",
       "      <td>M</td>\n",
       "    </tr>\n",
       "    <tr>\n",
       "      <th>3</th>\n",
       "      <td>MI</td>\n",
       "      <td>FT</td>\n",
       "      <td>Data Science Manager</td>\n",
       "      <td>USD</td>\n",
       "      <td>US</td>\n",
       "      <td>US</td>\n",
       "      <td>M</td>\n",
       "    </tr>\n",
       "    <tr>\n",
       "      <th>4</th>\n",
       "      <td>EN</td>\n",
       "      <td>FT</td>\n",
       "      <td>Research Analyst</td>\n",
       "      <td>USD</td>\n",
       "      <td>US</td>\n",
       "      <td>US</td>\n",
       "      <td>M</td>\n",
       "    </tr>\n",
       "  </tbody>\n",
       "</table>\n",
       "</div>"
      ],
      "text/plain": [
       "  experience_level employment_type             job_title salary_currency  \\\n",
       "0               SE              FT          Data Modeler             USD   \n",
       "1               SE              FT          Data Modeler             USD   \n",
       "2               MI              FT  Data Science Manager             USD   \n",
       "3               MI              FT  Data Science Manager             USD   \n",
       "4               EN              FT      Research Analyst             USD   \n",
       "\n",
       "  employee_residence company_location company_size  \n",
       "0                 US               US            M  \n",
       "1                 US               US            M  \n",
       "2                 US               US            M  \n",
       "3                 US               US            M  \n",
       "4                 US               US            M  "
      ]
     },
     "execution_count": 10,
     "metadata": {},
     "output_type": "execute_result"
    }
   ],
   "source": [
    "categorical_df = df.select_dtypes(exclude=[\"int64\", \"float64\"])\n",
    "categorical_df.head()"
   ]
  },
  {
   "cell_type": "markdown",
   "id": "0fd1b767",
   "metadata": {},
   "source": [
    "### 8.1. Phần trăm giá trị còn thiếu là bao nhiêu?"
   ]
  },
  {
   "cell_type": "code",
   "execution_count": 11,
   "id": "1c8f1135",
   "metadata": {},
   "outputs": [
    {
     "name": "stdout",
     "output_type": "stream",
     "text": [
      "Tỷ lệ phần trăm giá trị thiếu cho mỗi thuộc tính phân loại:\n",
      "experience_level      0.0\n",
      "employment_type       0.0\n",
      "job_title             0.0\n",
      "salary_currency       0.0\n",
      "employee_residence    0.0\n",
      "company_location      0.0\n",
      "company_size          0.0\n",
      "dtype: float64\n"
     ]
    }
   ],
   "source": [
    "categorical_df_null = (categorical_df.isnull().sum() / len(df)) * 100\n",
    "\n",
    "print(\"Tỷ lệ phần trăm giá trị thiếu cho mỗi thuộc tính phân loại:\")\n",
    "print(categorical_df_null)"
   ]
  },
  {
   "cell_type": "markdown",
   "id": "417942a6",
   "metadata": {},
   "source": [
    "### 8.2. Mỗi cột có bao nhiêu giá trị khác nhau?"
   ]
  },
  {
   "cell_type": "code",
   "execution_count": 12,
   "id": "a4c250c1",
   "metadata": {},
   "outputs": [
    {
     "name": "stdout",
     "output_type": "stream",
     "text": [
      "+ Cột experience_level: ['SE' 'MI' 'EN' 'EX']\n",
      "+ Cột employment_type: ['FT' 'PT' 'CT' 'FL']\n",
      "+ Cột job_title: ['Data Modeler' 'Data Science Manager' 'Research Analyst' 'Data Engineer'\n",
      " 'Data Analyst' 'ETL Developer' 'Machine Learning Engineer'\n",
      " 'Data Scientist' 'Data Specialist' 'Data Strategist' 'Prompt Engineer'\n",
      " 'Business Intelligence Developer' 'Research Engineer'\n",
      " 'Business Intelligence Analyst' 'Data Science Lead' 'ML Engineer'\n",
      " 'Analytics Engineer' 'BI Developer' 'Data Quality Manager'\n",
      " 'Applied Scientist' 'Head of Data' 'Research Scientist' 'Data Architect'\n",
      " 'Data Science' 'Business Intelligence Engineer' 'Data Science Consultant'\n",
      " 'Machine Learning Scientist' 'Data Product Manager'\n",
      " 'Business Intelligence Manager' 'Data Manager' 'Data Analytics Manager'\n",
      " 'Computer Vision Engineer' 'AI Product Manager' 'Data Analytics Lead'\n",
      " 'Director of Data Science' 'Data Product Owner' 'Data Developer'\n",
      " 'Machine Learning Infrastructure Engineer' 'Data Lead' 'AI Engineer'\n",
      " 'Data Integration Engineer' 'Data Management Analyst'\n",
      " 'Data Visualization Specialist' 'BI Analyst' 'Data Science Engineer'\n",
      " 'Business Data Analyst' 'Machine Learning Operations Engineer'\n",
      " 'Data Analyst Lead' 'NLP Engineer' 'MLOps Engineer'\n",
      " 'Marketing Data Scientist' 'AI Scientist' 'Insight Analyst'\n",
      " 'Data DevOps Engineer' 'Machine Learning Researcher'\n",
      " 'Data Quality Analyst' 'Deep Learning Engineer' 'AI Developer'\n",
      " 'Data Science Director' 'Machine Learning Modeler' 'BI Data Analyst'\n",
      " 'Data Integration Specialist' 'Data Science Practitioner'\n",
      " 'AI Research Engineer' 'Data Management Specialist' 'AI Architect'\n",
      " 'Business Intelligence Specialist' 'Data Quality Engineer'\n",
      " 'AI Programmer' 'Decision Scientist' 'Financial Data Analyst'\n",
      " 'Data Strategy Manager' 'Data Visualization Engineer'\n",
      " 'Azure Data Engineer' 'Principal Data Scientist' 'Staff Data Analyst'\n",
      " 'Data Infrastructure Engineer' 'Machine Learning Software Engineer'\n",
      " 'Head of Machine Learning' 'Applied Data Scientist'\n",
      " 'Data Operations Analyst' 'Applied Machine Learning Scientist'\n",
      " 'Data Operations Engineer' 'Machine Learning Manager'\n",
      " 'Lead Data Scientist' 'Principal Machine Learning Engineer'\n",
      " 'Principal Data Engineer' 'Power BI Developer' 'Head of Data Science'\n",
      " 'Staff Machine Learning Engineer' 'Staff Data Scientist'\n",
      " 'Consultant Data Engineer' 'Machine Learning Specialist'\n",
      " 'Business Intelligence Data Analyst' 'Data Operations Manager'\n",
      " 'Lead Machine Learning Engineer' 'Managing Director Data Science'\n",
      " 'Data Modeller' 'Finance Data Analyst' 'Software Data Engineer'\n",
      " 'Machine Learning Research Engineer' 'Compliance Data Analyst'\n",
      " 'Data Operations Specialist' 'Cloud Data Engineer'\n",
      " 'Analytics Engineering Manager' 'AWS Data Architect'\n",
      " 'Product Data Analyst' 'Machine Learning Developer'\n",
      " 'Data Visualization Analyst' 'Autonomous Vehicle Technician'\n",
      " 'Sales Data Analyst' 'Applied Machine Learning Engineer' 'ETL Engineer'\n",
      " 'Big Data Engineer' 'Lead Data Analyst' 'BI Data Engineer'\n",
      " 'Cloud Database Engineer' 'Deep Learning Researcher'\n",
      " 'Data Analytics Specialist' 'Big Data Architect'\n",
      " 'Computer Vision Software Engineer' 'Marketing Data Engineer'\n",
      " 'Manager Data Management' 'Data Analytics Consultant'\n",
      " 'Data Science Tech Lead' 'Data Scientist Lead' 'Marketing Data Analyst'\n",
      " 'Principal Data Architect' 'Data Analytics Engineer'\n",
      " 'Cloud Data Architect' 'Lead Data Engineer' 'Principal Data Analyst']\n",
      "+ Cột salary_currency: ['USD' 'EUR' 'GBP' 'CAD' 'AUD' 'INR' 'PLN' 'BRL' 'PHP' 'TRY' 'CHF' 'NOK'\n",
      " 'JPY' 'ZAR' 'HKD' 'SGD' 'ILS' 'THB' 'HUF' 'DKK' 'MXN' 'CLP']\n",
      "+ Cột employee_residence: ['US' 'DE' 'GB' 'ZA' 'AU' 'CA' 'NZ' 'HU' 'IN' 'ES' 'VN' 'NG' 'PH' 'IE'\n",
      " 'PL' 'FR' 'CZ' 'NL' 'PK' 'UA' 'LT' 'PT' 'UG' 'CO' 'IT' 'SI' 'RO' 'GR'\n",
      " 'LV' 'MU' 'AM' 'HR' 'TH' 'KR' 'EE' 'TR' 'BR' 'QA' 'RU' 'KE' 'TN' 'GH'\n",
      " 'BE' 'CH' 'AD' 'EC' 'PE' 'MX' 'MD' 'SA' 'NO' 'AR' 'EG' 'UZ' 'GE' 'JP'\n",
      " 'HK' 'CF' 'FI' 'IL' 'AT' 'SG' 'SE' 'KW' 'CY' 'BA' 'IR' 'AS' 'CN' 'CR'\n",
      " 'CL' 'PR' 'DK' 'BO' 'DO' 'ID' 'AE' 'MY' 'HN' 'DZ' 'IQ' 'BG' 'JE' 'RS'\n",
      " 'LU' 'MT']\n",
      "+ Cột company_location: ['US' 'DE' 'GB' 'ZA' 'AU' 'CA' 'NZ' 'HU' 'IN' 'ES' 'VN' 'NG' 'PH' 'IE'\n",
      " 'PL' 'FR' 'NL' 'LU' 'LT' 'PT' 'GI' 'CO' 'UA' 'SI' 'RO' 'GR' 'LV' 'MU'\n",
      " 'RU' 'IT' 'KR' 'EE' 'CZ' 'CH' 'BR' 'QA' 'KE' 'DK' 'GH' 'SE' 'TR' 'AD'\n",
      " 'EC' 'MX' 'IL' 'SA' 'NO' 'AR' 'JP' 'HK' 'CF' 'FI' 'SG' 'TH' 'HR' 'AM'\n",
      " 'BA' 'PK' 'IR' 'BS' 'AT' 'PR' 'AS' 'BE' 'ID' 'EG' 'AE' 'MY' 'HN' 'DZ'\n",
      " 'IQ' 'CN' 'CL' 'MD' 'MT']\n",
      "+ Cột company_size: ['M' 'L' 'S']\n"
     ]
    }
   ],
   "source": [
    "for column in categorical_df.columns:\n",
    "    unique_values = categorical_df[column].unique()\n",
    "    print(f\"+ Cột {column}: {unique_values}\")"
   ]
  },
  {
   "cell_type": "markdown",
   "id": "03c7e48f",
   "metadata": {},
   "source": [
    "### 8.3. Các giá trị này có gì bất thường không?\n",
    "- Các giá trị không có gì là bất thường."
   ]
  },
  {
   "cell_type": "markdown",
   "id": "11569427",
   "metadata": {},
   "source": [
    "# C. Đưa ra câu hỏi có ý nghĩa và trả lời câu hỏi"
   ]
  },
  {
   "cell_type": "code",
   "execution_count": null,
   "id": "6381cad6",
   "metadata": {},
   "outputs": [],
   "source": []
  }
 ],
 "metadata": {
  "kernelspec": {
   "display_name": "Python 3 (ipykernel)",
   "language": "python",
   "name": "python3"
  },
  "language_info": {
   "codemirror_mode": {
    "name": "ipython",
    "version": 3
   },
   "file_extension": ".py",
   "mimetype": "text/x-python",
   "name": "python",
   "nbconvert_exporter": "python",
   "pygments_lexer": "ipython3",
   "version": "3.11.5"
  }
 },
 "nbformat": 4,
 "nbformat_minor": 5
}
