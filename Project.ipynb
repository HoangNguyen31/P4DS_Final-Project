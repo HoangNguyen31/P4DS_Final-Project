{
 "cells": [
  {
   "cell_type": "markdown",
   "id": "a8b7ae6f",
   "metadata": {},
   "source": [
    "# ĐỒ ÁN THỰC HÀNH\n",
    "- 19120590 - Huỳnh Thanh Mỹ\n",
    "- "
   ]
  },
  {
   "cell_type": "markdown",
   "id": "97f94de6",
   "metadata": {},
   "source": [
    "# A. Thu nhập dữ liệu\n",
    "1. Chủ đề của dữ liệu là gì và được lấy từ nguồn nào?\n",
    "- Tên chủ đề: Mức lương cho công việc Khoa học Dữ liệu (Data Science Job Salaries).\n",
    "- Nguồn dữ liệu: [tại đây](https://salaries.ai-jobs.net/)\n",
    "2. Tác giả có cho phép sử dụng dữ liệu này không?\n",
    "- Toàn bộ bộ dữ liệu được công bố trong phạm vi công cộng theo giấy phép CC0 (Public Domain).\n",
    "3. Tác giả thu thập dữ liệu như thế nào?\n",
    "- Trang web cung cấp cho người dùng một biểu mẫu ngắn để trả lời khảo sát về công việc và mức lương hiện tại trong lĩnh vực Khoa học dữ liệu"
   ]
  },
  {
   "cell_type": "markdown",
   "id": "7885361a-3fb2-47f4-8ba1-a3509e18199b",
   "metadata": {},
   "source": [
    "# B. Khám phá dữ liệu"
   ]
  },
  {
   "cell_type": "markdown",
   "id": "78eab056-fc13-4396-a5e5-1c8aee0de140",
   "metadata": {},
   "source": [
    "### Import thư viện"
   ]
  },
  {
   "cell_type": "code",
   "execution_count": 1,
   "id": "74f6ed16",
   "metadata": {},
   "outputs": [],
   "source": [
    "import numpy as np\n",
    "import pandas as pd\n",
    "import matplotlib.pyplot as plt\n",
    "import seaborn as sns"
   ]
  },
  {
   "cell_type": "markdown",
   "id": "1030bee6",
   "metadata": {},
   "source": [
    "## 1. Đọc dữ liệu"
   ]
  },
  {
   "cell_type": "markdown",
   "id": "7fb2e250-a801-415b-84b2-c2d8e3e3299c",
   "metadata": {},
   "source": [
    "- Tập dữ liệu này nói về Mức lương của các lĩnh vực khoa học dữ liệu khác nhau trong lĩnh vực khoa học dữ liệu. \n",
    "- Bộ dữ liệu này tạo điều kiện phân tích chuyên sâu về mối quan hệ giữa tiền lương và các yếu tố khác nhau như mức độ kinh nghiệm, loại việc làm, nơi cư trú của nhân viên, tỷ lệ làm việc từ xa, địa điểm công ty và quy mô công ty. Khám phá tập dữ liệu này có thể hỗ trợ đưa ra các quyết định sáng suốt về lựa chọn nghề nghiệp và vị trí công việc trong lĩnh vực Khoa học dữ liệu.\n",
    "- Ta sẽ tiến hành đọc dữ liệu vào DataFrame có tên là \"df\""
   ]
  },
  {
   "cell_type": "code",
   "execution_count": 2,
   "id": "e5eec06a",
   "metadata": {},
   "outputs": [
    {
     "data": {
      "text/html": [
       "<div>\n",
       "<style scoped>\n",
       "    .dataframe tbody tr th:only-of-type {\n",
       "        vertical-align: middle;\n",
       "    }\n",
       "\n",
       "    .dataframe tbody tr th {\n",
       "        vertical-align: top;\n",
       "    }\n",
       "\n",
       "    .dataframe thead th {\n",
       "        text-align: right;\n",
       "    }\n",
       "</style>\n",
       "<table border=\"1\" class=\"dataframe\">\n",
       "  <thead>\n",
       "    <tr style=\"text-align: right;\">\n",
       "      <th></th>\n",
       "      <th>work_year</th>\n",
       "      <th>experience_level</th>\n",
       "      <th>employment_type</th>\n",
       "      <th>job_title</th>\n",
       "      <th>salary</th>\n",
       "      <th>salary_currency</th>\n",
       "      <th>salary_in_usd</th>\n",
       "      <th>employee_residence</th>\n",
       "      <th>remote_ratio</th>\n",
       "      <th>company_location</th>\n",
       "      <th>company_size</th>\n",
       "    </tr>\n",
       "  </thead>\n",
       "  <tbody>\n",
       "    <tr>\n",
       "      <th>0</th>\n",
       "      <td>2023</td>\n",
       "      <td>SE</td>\n",
       "      <td>FT</td>\n",
       "      <td>Data Modeler</td>\n",
       "      <td>258700</td>\n",
       "      <td>USD</td>\n",
       "      <td>258700</td>\n",
       "      <td>US</td>\n",
       "      <td>0</td>\n",
       "      <td>US</td>\n",
       "      <td>M</td>\n",
       "    </tr>\n",
       "    <tr>\n",
       "      <th>1</th>\n",
       "      <td>2023</td>\n",
       "      <td>SE</td>\n",
       "      <td>FT</td>\n",
       "      <td>Data Modeler</td>\n",
       "      <td>146600</td>\n",
       "      <td>USD</td>\n",
       "      <td>146600</td>\n",
       "      <td>US</td>\n",
       "      <td>0</td>\n",
       "      <td>US</td>\n",
       "      <td>M</td>\n",
       "    </tr>\n",
       "    <tr>\n",
       "      <th>2</th>\n",
       "      <td>2023</td>\n",
       "      <td>MI</td>\n",
       "      <td>FT</td>\n",
       "      <td>Data Science Manager</td>\n",
       "      <td>190000</td>\n",
       "      <td>USD</td>\n",
       "      <td>190000</td>\n",
       "      <td>US</td>\n",
       "      <td>100</td>\n",
       "      <td>US</td>\n",
       "      <td>M</td>\n",
       "    </tr>\n",
       "    <tr>\n",
       "      <th>3</th>\n",
       "      <td>2023</td>\n",
       "      <td>MI</td>\n",
       "      <td>FT</td>\n",
       "      <td>Data Science Manager</td>\n",
       "      <td>160000</td>\n",
       "      <td>USD</td>\n",
       "      <td>160000</td>\n",
       "      <td>US</td>\n",
       "      <td>100</td>\n",
       "      <td>US</td>\n",
       "      <td>M</td>\n",
       "    </tr>\n",
       "    <tr>\n",
       "      <th>4</th>\n",
       "      <td>2023</td>\n",
       "      <td>EN</td>\n",
       "      <td>FT</td>\n",
       "      <td>Research Analyst</td>\n",
       "      <td>90000</td>\n",
       "      <td>USD</td>\n",
       "      <td>90000</td>\n",
       "      <td>US</td>\n",
       "      <td>100</td>\n",
       "      <td>US</td>\n",
       "      <td>M</td>\n",
       "    </tr>\n",
       "  </tbody>\n",
       "</table>\n",
       "</div>"
      ],
      "text/plain": [
       "   work_year experience_level employment_type             job_title  salary  \\\n",
       "0       2023               SE              FT          Data Modeler  258700   \n",
       "1       2023               SE              FT          Data Modeler  146600   \n",
       "2       2023               MI              FT  Data Science Manager  190000   \n",
       "3       2023               MI              FT  Data Science Manager  160000   \n",
       "4       2023               EN              FT      Research Analyst   90000   \n",
       "\n",
       "  salary_currency  salary_in_usd employee_residence  remote_ratio  \\\n",
       "0             USD         258700                 US             0   \n",
       "1             USD         146600                 US             0   \n",
       "2             USD         190000                 US           100   \n",
       "3             USD         160000                 US           100   \n",
       "4             USD          90000                 US           100   \n",
       "\n",
       "  company_location company_size  \n",
       "0               US            M  \n",
       "1               US            M  \n",
       "2               US            M  \n",
       "3               US            M  \n",
       "4               US            M  "
      ]
     },
     "execution_count": 2,
     "metadata": {},
     "output_type": "execute_result"
    }
   ],
   "source": [
    "df = pd.read_csv(\"./data/salaries.csv\")\n",
    "df.head()"
   ]
  },
  {
   "cell_type": "markdown",
   "id": "0315f41a",
   "metadata": {},
   "source": [
    "## 2. Kích thước dữ liệu"
   ]
  },
  {
   "cell_type": "code",
   "execution_count": 3,
   "id": "5014a956",
   "metadata": {},
   "outputs": [
    {
     "name": "stdout",
     "output_type": "stream",
     "text": [
      "Số dòng: 10456\n",
      "Số cột: 11\n"
     ]
    }
   ],
   "source": [
    "num_rows, num_cols = df.shape\n",
    "print(\"Số dòng:\", num_rows)\n",
    "print(\"Số cột:\", num_cols)"
   ]
  },
  {
   "cell_type": "markdown",
   "id": "4f9acece",
   "metadata": {},
   "source": [
    "## 3. Ý nghĩa từng dòng dữ liệu\n",
    "- Mỗi hàng trong tập dữ liệu đại diện cho một hồ sơ cá nhân hoặc một trường hợp cụ thể về mức lương trong lĩnh vực Data Science, với thông tin chi tiết về năm làm việc, kinh nghiệm, loại hình làm việc, chức danh công việc, mức lương, loại tiền tệ, địa chỉ cư trú của nhân viên, tỷ lệ làm việc từ xa, địa điểm công ty, và quy mô của công ty."
   ]
  },
  {
   "cell_type": "markdown",
   "id": "8e0c78a9",
   "metadata": {},
   "source": [
    "## 4. Dữ liệu có các dòng bị lặp không?"
   ]
  },
  {
   "cell_type": "code",
   "execution_count": 4,
   "id": "1a81abea",
   "metadata": {},
   "outputs": [
    {
     "data": {
      "text/plain": [
       "True"
      ]
     },
     "execution_count": 4,
     "metadata": {},
     "output_type": "execute_result"
    }
   ],
   "source": [
    "have_duplicate_rows = df.duplicated().any()\n",
    "have_duplicate_rows"
   ]
  },
  {
   "cell_type": "markdown",
   "id": "9bbf6d6a",
   "metadata": {},
   "source": [
    "## 5. Ý nghĩa từng cột dữ liệu"
   ]
  },
  {
   "cell_type": "markdown",
   "id": "099b3ca5-2755-4037-8ead-294a5b66f434",
   "metadata": {},
   "source": [
    "Bộ dữ liệu chứa 11 cột, mỗi cột là:\n",
    "\n",
    "- work_year: Năm trả lương. \n",
    "- experience_level: Mức độ kinh nghiệm trong công việc trong năm \n",
    "- employment_type: Loại việc làm cho vai trò \n",
    "- job_title: Vai trò đã đảm nhiệm trong năm. \n",
    "- salary: Tổng số tiền lương được trả. \n",
    "- salary_currency: Đơn vị tiền tệ của tiền lương được trả dưới dạng mã tiền tệ ISO 4217. \n",
    "- salary_in_usd: Mức lương tính bằng USD \n",
    "- employee_residence: Quốc gia cư trú chính của nhân viên trong năm làm việc dưới dạng mã quốc gia ISO 3166. \n",
    "- remote_ratio: Tổng khối lượng công việc được thực hiện từ xa \n",
    "- company_location: Quốc gia của văn phòng chính hoặc chi nhánh hợp đồng của người sử dụng lao động \n",
    "- company_size: Số người trung bình đã làm việc cho công ty trong năm "
   ]
  },
  {
   "cell_type": "code",
   "execution_count": 5,
   "id": "282fecad",
   "metadata": {
    "scrolled": true
   },
   "outputs": [
    {
     "name": "stdout",
     "output_type": "stream",
     "text": [
      "Dữ liệu có 11 cột\n",
      "Ý nghĩa các cột:\n",
      " ['work_year', 'experience_level', 'employment_type', 'job_title', 'salary', 'salary_currency', 'salary_in_usd', 'employee_residence', 'remote_ratio', 'company_location', 'company_size']\n"
     ]
    }
   ],
   "source": [
    "print(f\"Dữ liệu có {len(df.columns)} cột\")\n",
    "print(\"Ý nghĩa các cột:\\n\", list(df.columns))"
   ]
  },
  {
   "cell_type": "markdown",
   "id": "09030072",
   "metadata": {},
   "source": [
    "## 6. Kiểu dữ liệu của mỗi cột dữ liệu. Có cột nào có kiểu dữ liệu không phù hợp không?"
   ]
  },
  {
   "cell_type": "code",
   "execution_count": 6,
   "id": "2afbc5f7",
   "metadata": {},
   "outputs": [
    {
     "data": {
      "text/plain": [
       "work_year              int64\n",
       "experience_level      object\n",
       "employment_type       object\n",
       "job_title             object\n",
       "salary                 int64\n",
       "salary_currency       object\n",
       "salary_in_usd          int64\n",
       "employee_residence    object\n",
       "remote_ratio           int64\n",
       "company_location      object\n",
       "company_size          object\n",
       "dtype: object"
      ]
     },
     "execution_count": 6,
     "metadata": {},
     "output_type": "execute_result"
    }
   ],
   "source": [
    "df.dtypes"
   ]
  },
  {
   "cell_type": "markdown",
   "id": "291b32a7",
   "metadata": {},
   "source": [
    "- Các thuộc tính của tập dữ liệu đa phần đã ở định dạng phù hợp."
   ]
  },
  {
   "cell_type": "markdown",
   "id": "00eebc0f",
   "metadata": {},
   "source": [
    "## 7. Với mỗi cột mang giá trị số, các giá trị được phân bố như thế nào?"
   ]
  },
  {
   "cell_type": "code",
   "execution_count": 7,
   "id": "4a1ebfea",
   "metadata": {},
   "outputs": [
    {
     "name": "stdout",
     "output_type": "stream",
     "text": [
      "          work_year        salary  salary_in_usd  remote_ratio\n",
      "count  10456.000000  1.045600e+04   10456.000000   10456.00000\n",
      "mean    2022.778883  1.704655e+05  149263.499904      36.49101\n",
      "std        0.506937  4.195989e+05   65269.393738      47.58074\n",
      "min     2020.000000  1.400000e+04   15000.000000       0.00000\n",
      "25%     2023.000000  1.050000e+05  104640.250000       0.00000\n",
      "50%     2023.000000  1.430000e+05  142200.000000       0.00000\n",
      "75%     2023.000000  1.882750e+05  185900.000000     100.00000\n",
      "max     2023.000000  3.040000e+07  750000.000000     100.00000\n"
     ]
    }
   ],
   "source": [
    "numerical_df = df.select_dtypes(include=[\"number\"])\n",
    "numeric_describe = numerical_df.describe()\n",
    "print(numeric_describe)"
   ]
  },
  {
   "cell_type": "markdown",
   "id": "4a8349d1",
   "metadata": {},
   "source": [
    "### 7.1. Phần trăm giá trị còn thiếu là bao nhiêu?"
   ]
  },
  {
   "cell_type": "code",
   "execution_count": 8,
   "id": "3ebb83f8",
   "metadata": {},
   "outputs": [
    {
     "name": "stdout",
     "output_type": "stream",
     "text": [
      "Tỷ lệ phần trăm giá trị thiếu cho mỗi thuộc tính số:\n",
      "work_year        0.0\n",
      "salary           0.0\n",
      "salary_in_usd    0.0\n",
      "remote_ratio     0.0\n",
      "dtype: float64\n"
     ]
    }
   ],
   "source": [
    "numerical_df_null = (numerical_df.isnull().sum() / len(df)) * 100\n",
    "\n",
    "print(\"Tỷ lệ phần trăm giá trị thiếu cho mỗi thuộc tính số:\")\n",
    "print(numerical_df_null)"
   ]
  },
  {
   "cell_type": "markdown",
   "id": "96aad7dc",
   "metadata": {},
   "source": [
    "### 7.2. Giá trị nhỏ nhất? Giá trị lớn nhất? Các giá trị này có gì bất thường không?"
   ]
  },
  {
   "cell_type": "code",
   "execution_count": 9,
   "id": "7ae5fbec-9989-47dc-a83a-4059f2dacaaa",
   "metadata": {},
   "outputs": [
    {
     "name": "stdout",
     "output_type": "stream",
     "text": [
      "Giá trị nhỏ nhất:\n",
      "work_year         2020\n",
      "salary           14000\n",
      "salary_in_usd    15000\n",
      "remote_ratio         0\n",
      "dtype: int64\n",
      "\n",
      "Giá trị lớn nhất:\n",
      "work_year            2023\n",
      "salary           30400000\n",
      "salary_in_usd      750000\n",
      "remote_ratio          100\n",
      "dtype: int64\n"
     ]
    }
   ],
   "source": [
    "min_values = numerical_df.min()\n",
    "max_values = numerical_df.max()\n",
    "print(\"Giá trị nhỏ nhất:\")\n",
    "print(min_values)\n",
    "print(\"\\nGiá trị lớn nhất:\")\n",
    "print(max_values)"
   ]
  },
  {
   "cell_type": "markdown",
   "id": "6e04c7c1",
   "metadata": {},
   "source": [
    "- Các giá trị không có gì là bất thường."
   ]
  },
  {
   "cell_type": "markdown",
   "id": "24065c0d",
   "metadata": {},
   "source": [
    "## 8. Với mỗi cột mang giá trị phân loại, các giá trị được phân bố như thế nào?"
   ]
  },
  {
   "cell_type": "code",
   "execution_count": 10,
   "id": "8d4986ee",
   "metadata": {},
   "outputs": [
    {
     "name": "stdout",
     "output_type": "stream",
     "text": [
      "       experience_level employment_type      job_title salary_currency  \\\n",
      "count             10456           10456          10456           10456   \n",
      "unique                4               4            132              22   \n",
      "top                  SE              FT  Data Engineer             USD   \n",
      "freq               7325           10410           2390            9569   \n",
      "\n",
      "       employee_residence company_location company_size  \n",
      "count               10456            10456        10456  \n",
      "unique                 86               75            3  \n",
      "top                    US               US            M  \n",
      "freq                 9023             9072         9448  \n"
     ]
    }
   ],
   "source": [
    "categorical_df = df.drop(numerical_df, axis=1)\n",
    "categorical_describe = categorical_df.describe()\n",
    "\n",
    "print(categorical_describe)"
   ]
  },
  {
   "cell_type": "markdown",
   "id": "0fd1b767",
   "metadata": {},
   "source": [
    "### 8.1. Phần trăm giá trị còn thiếu là bao nhiêu?"
   ]
  },
  {
   "cell_type": "code",
   "execution_count": 11,
   "id": "1c8f1135",
   "metadata": {},
   "outputs": [
    {
     "name": "stdout",
     "output_type": "stream",
     "text": [
      "Tỷ lệ phần trăm giá trị thiếu cho mỗi thuộc tính phân loại:\n",
      "experience_level      0.0\n",
      "employment_type       0.0\n",
      "job_title             0.0\n",
      "salary_currency       0.0\n",
      "employee_residence    0.0\n",
      "company_location      0.0\n",
      "company_size          0.0\n",
      "dtype: float64\n"
     ]
    }
   ],
   "source": [
    "categorical_df_null = (categorical_df.isnull().sum() / len(df)) * 100\n",
    "\n",
    "print(\"Tỷ lệ phần trăm giá trị thiếu cho mỗi thuộc tính phân loại:\")\n",
    "print(categorical_df_null)"
   ]
  },
  {
   "cell_type": "markdown",
   "id": "417942a6",
   "metadata": {},
   "source": [
    "### 8.2. Mỗi cột có bao nhiêu giá trị khác nhau?"
   ]
  },
  {
   "cell_type": "code",
   "execution_count": 12,
   "id": "a4c250c1",
   "metadata": {},
   "outputs": [
    {
     "name": "stdout",
     "output_type": "stream",
     "text": [
      "+ Cột experience_level: ['SE' 'MI' 'EN' 'EX']\n",
      "+ Cột employment_type: ['FT' 'PT' 'CT' 'FL']\n",
      "+ Cột job_title: ['Data Modeler' 'Data Science Manager' 'Research Analyst' 'Data Engineer'\n",
      " 'Data Analyst' 'ETL Developer' 'Machine Learning Engineer'\n",
      " 'Data Scientist' 'Data Specialist' 'Data Strategist' 'Prompt Engineer'\n",
      " 'Business Intelligence Developer' 'Research Engineer'\n",
      " 'Business Intelligence Analyst' 'Data Science Lead' 'ML Engineer'\n",
      " 'Analytics Engineer' 'BI Developer' 'Data Quality Manager'\n",
      " 'Applied Scientist' 'Head of Data' 'Research Scientist' 'Data Architect'\n",
      " 'Data Science' 'Business Intelligence Engineer' 'Data Science Consultant'\n",
      " 'Machine Learning Scientist' 'Data Product Manager'\n",
      " 'Business Intelligence Manager' 'Data Manager' 'Data Analytics Manager'\n",
      " 'Computer Vision Engineer' 'AI Product Manager' 'Data Analytics Lead'\n",
      " 'Director of Data Science' 'Data Product Owner' 'Data Developer'\n",
      " 'Machine Learning Infrastructure Engineer' 'Data Lead' 'AI Engineer'\n",
      " 'Data Integration Engineer' 'Data Management Analyst'\n",
      " 'Data Visualization Specialist' 'BI Analyst' 'Data Science Engineer'\n",
      " 'Business Data Analyst' 'Machine Learning Operations Engineer'\n",
      " 'Data Analyst Lead' 'NLP Engineer' 'MLOps Engineer'\n",
      " 'Marketing Data Scientist' 'AI Scientist' 'Insight Analyst'\n",
      " 'Data DevOps Engineer' 'Machine Learning Researcher'\n",
      " 'Data Quality Analyst' 'Deep Learning Engineer' 'AI Developer'\n",
      " 'Data Science Director' 'Machine Learning Modeler' 'BI Data Analyst'\n",
      " 'Data Integration Specialist' 'Data Science Practitioner'\n",
      " 'AI Research Engineer' 'Data Management Specialist' 'AI Architect'\n",
      " 'Business Intelligence Specialist' 'Data Quality Engineer'\n",
      " 'AI Programmer' 'Decision Scientist' 'Financial Data Analyst'\n",
      " 'Data Strategy Manager' 'Data Visualization Engineer'\n",
      " 'Azure Data Engineer' 'Principal Data Scientist' 'Staff Data Analyst'\n",
      " 'Data Infrastructure Engineer' 'Machine Learning Software Engineer'\n",
      " 'Head of Machine Learning' 'Applied Data Scientist'\n",
      " 'Data Operations Analyst' 'Applied Machine Learning Scientist'\n",
      " 'Data Operations Engineer' 'Machine Learning Manager'\n",
      " 'Lead Data Scientist' 'Principal Machine Learning Engineer'\n",
      " 'Principal Data Engineer' 'Power BI Developer' 'Head of Data Science'\n",
      " 'Staff Machine Learning Engineer' 'Staff Data Scientist'\n",
      " 'Consultant Data Engineer' 'Machine Learning Specialist'\n",
      " 'Business Intelligence Data Analyst' 'Data Operations Manager'\n",
      " 'Lead Machine Learning Engineer' 'Managing Director Data Science'\n",
      " 'Data Modeller' 'Finance Data Analyst' 'Software Data Engineer'\n",
      " 'Machine Learning Research Engineer' 'Compliance Data Analyst'\n",
      " 'Data Operations Specialist' 'Cloud Data Engineer'\n",
      " 'Analytics Engineering Manager' 'AWS Data Architect'\n",
      " 'Product Data Analyst' 'Machine Learning Developer'\n",
      " 'Data Visualization Analyst' 'Autonomous Vehicle Technician'\n",
      " 'Sales Data Analyst' 'Applied Machine Learning Engineer' 'ETL Engineer'\n",
      " 'Big Data Engineer' 'Lead Data Analyst' 'BI Data Engineer'\n",
      " 'Cloud Database Engineer' 'Deep Learning Researcher'\n",
      " 'Data Analytics Specialist' 'Big Data Architect'\n",
      " 'Computer Vision Software Engineer' 'Marketing Data Engineer'\n",
      " 'Manager Data Management' 'Data Analytics Consultant'\n",
      " 'Data Science Tech Lead' 'Data Scientist Lead' 'Marketing Data Analyst'\n",
      " 'Principal Data Architect' 'Data Analytics Engineer'\n",
      " 'Cloud Data Architect' 'Lead Data Engineer' 'Principal Data Analyst']\n",
      "+ Cột salary_currency: ['USD' 'EUR' 'GBP' 'CAD' 'AUD' 'INR' 'PLN' 'BRL' 'PHP' 'TRY' 'CHF' 'NOK'\n",
      " 'JPY' 'ZAR' 'HKD' 'SGD' 'ILS' 'THB' 'HUF' 'DKK' 'MXN' 'CLP']\n",
      "+ Cột employee_residence: ['US' 'DE' 'GB' 'ZA' 'AU' 'CA' 'NZ' 'HU' 'IN' 'ES' 'VN' 'NG' 'PH' 'IE'\n",
      " 'PL' 'FR' 'CZ' 'NL' 'PK' 'UA' 'LT' 'PT' 'UG' 'CO' 'IT' 'SI' 'RO' 'GR'\n",
      " 'LV' 'MU' 'AM' 'HR' 'TH' 'KR' 'EE' 'TR' 'BR' 'QA' 'RU' 'KE' 'TN' 'GH'\n",
      " 'BE' 'CH' 'AD' 'EC' 'PE' 'MX' 'MD' 'SA' 'NO' 'AR' 'EG' 'UZ' 'GE' 'JP'\n",
      " 'HK' 'CF' 'FI' 'IL' 'AT' 'SG' 'SE' 'KW' 'CY' 'BA' 'IR' 'AS' 'CN' 'CR'\n",
      " 'CL' 'PR' 'DK' 'BO' 'DO' 'ID' 'AE' 'MY' 'HN' 'DZ' 'IQ' 'BG' 'JE' 'RS'\n",
      " 'LU' 'MT']\n",
      "+ Cột company_location: ['US' 'DE' 'GB' 'ZA' 'AU' 'CA' 'NZ' 'HU' 'IN' 'ES' 'VN' 'NG' 'PH' 'IE'\n",
      " 'PL' 'FR' 'NL' 'LU' 'LT' 'PT' 'GI' 'CO' 'UA' 'SI' 'RO' 'GR' 'LV' 'MU'\n",
      " 'RU' 'IT' 'KR' 'EE' 'CZ' 'CH' 'BR' 'QA' 'KE' 'DK' 'GH' 'SE' 'TR' 'AD'\n",
      " 'EC' 'MX' 'IL' 'SA' 'NO' 'AR' 'JP' 'HK' 'CF' 'FI' 'SG' 'TH' 'HR' 'AM'\n",
      " 'BA' 'PK' 'IR' 'BS' 'AT' 'PR' 'AS' 'BE' 'ID' 'EG' 'AE' 'MY' 'HN' 'DZ'\n",
      " 'IQ' 'CN' 'CL' 'MD' 'MT']\n",
      "+ Cột company_size: ['M' 'L' 'S']\n"
     ]
    }
   ],
   "source": [
    "for column in categorical_df.columns:\n",
    "    unique_values = categorical_df[column].unique()\n",
    "    print(f\"+ Cột {column}: {unique_values}\")"
   ]
  },
  {
   "cell_type": "markdown",
   "id": "03c7e48f",
   "metadata": {},
   "source": [
    "### 8.3. Các giá trị này có gì bất thường không?\n",
    "- Các giá trị không có gì là bất thường."
   ]
  },
  {
   "cell_type": "markdown",
   "id": "11569427",
   "metadata": {},
   "source": [
    "# C. Đưa ra câu hỏi có ý nghĩa và trả lời câu hỏi"
   ]
  },
  {
   "cell_type": "markdown",
   "id": "849da323-748b-474c-a8ee-463abe148eb5",
   "metadata": {},
   "source": [
    "### Câu hỏi 1: \"Tình hình làm việc từ xa (remote work) trong lĩnh vực Data Science phản ánh như thế nào qua các năm, và có sự ảnh hưởng của kích thước công ty không?\"\n",
    "\n",
    "Tiền xử lý:\n",
    "\n",
    "- Chọn cột liên quan: Chọn cột \"work_year\", \"remote_ratio\", và \"company_size\" từ DataFrame.\n",
    "- Xử lý giá trị thiếu: Kiểm tra và xử lý giá trị thiếu trong các cột cần thiết.\n",
    "- Kiểm tra và xử lý dữ liệu không hợp lý: Đảm bảo rằng các giá trị của \"remote_ratio\" nằm trong phạm vi hợp lý (ví dụ: từ 0 đến 100) và kiểm tra tính hợp lý của \"work_year\" và \"company_size\".\n",
    "\n",
    "\n",
    "Phân tích dữ liệu:\n",
    "\n",
    "- Phân loại dữ liệu: Phân loại dữ liệu theo năm làm việc và kích thước công ty.\n",
    "- Tính trung bình remote_ratio: Tính giá trị trung bình của cột \"remote_ratio\" cho từng năm.\n",
    "- Tính trung bình remote_ratio theo kích thước công ty: Tính giá trị trung bình của \"remote_ratio\" cho từng phân khúc kích thước công ty."
   ]
  },
  {
   "cell_type": "code",
   "execution_count": 13,
   "id": "d1228867-c78a-42e4-868b-21d2733e7e5d",
   "metadata": {},
   "outputs": [
    {
     "name": "stdout",
     "output_type": "stream",
     "text": [
      "Trung bình remote_ratio theo năm:\n",
      "work_year\n",
      "2020    62.000000\n",
      "2021    69.954128\n",
      "2022    55.208964\n",
      "2023    31.778665\n",
      "Name: remote_ratio, dtype: float64\n",
      "\n",
      "Trung bình remote_ratio theo kích thước công ty:\n",
      "company_size\n",
      "L    40.083632\n",
      "M    35.552498\n",
      "S    70.760234\n",
      "Name: remote_ratio, dtype: float64\n"
     ]
    }
   ],
   "source": [
    "# Tiền xử lý\n",
    "questions1_columns = [\"work_year\", \"remote_ratio\", \"company_size\"]\n",
    "filtered_df = df[questions1_columns].copy()\n",
    "\n",
    "# Xử lý giá trị thiếu\n",
    "filtered_df.dropna(subset=[\"remote_ratio\"], inplace=True)\n",
    "\n",
    "# Kiểm tra và xử lý giá trị không hợp lý\n",
    "filtered_df = filtered_df[(filtered_df[\"remote_ratio\"] >= 0) & (filtered_df[\"remote_ratio\"] <= 100)]\n",
    "\n",
    "# Phân tích dữ liệu\n",
    "average_remote_by_year = filtered_df.groupby(\"work_year\")[\"remote_ratio\"].mean()\n",
    "average_remote_by_size = filtered_df.groupby(\"company_size\")[\"remote_ratio\"].mean()\n",
    "\n",
    "print(\"Trung bình remote_ratio theo năm:\")\n",
    "print(average_remote_by_year)\n",
    "\n",
    "print(\"\\nTrung bình remote_ratio theo kích thước công ty:\")\n",
    "print(average_remote_by_size)"
   ]
  },
  {
   "cell_type": "markdown",
   "id": "3ae616cb-a5df-4368-9e9f-ca3bb352a5ee",
   "metadata": {},
   "source": [
    "### Nhận xét \n",
    "\n",
    "Theo năm: \n",
    "- Từ năm 2020 đến năm 2021, trung bình tỷ lệ làm việc từ xa tăng đáng kể, từ 62% lên 69.95%. Điều này có thể phản ánh xu hướng chung trong ngành Data Science hỗ trợ và khuyến khích làm việc từ xa(do dịch Covid).\n",
    "- Tuy nhiên, từ năm 2022 đến năm 2023, có một giảm đột ngột xuống còn 31.78%. Điều này có thể là do nhiều yếu tố như thay đổi chính sách công ty, tình hình kinh tế, hoặc yếu tố ngoại vi khác.\n",
    "\n",
    "Theo kích thước công ty: \n",
    "- Các công ty có kích thước nhỏ (S) có trung bình tỷ lệ làm việc từ xa cao nhất, đạt 70.76%. Điều này có thể do các công ty nhỏ linh hoạt hơn trong việc triển khai mô hình làm việc từ xa.\n",
    "- Các công ty có kích thước lớn (L) và trung bình (M) có tỷ lệ làm việc từ xa tương đối thấp hơn, lần lượt là 40.08% và 35.55%. Có thể do các công ty lớn gặp khó khăn hơn trong việc triển khai và duy trì mô hình làm việc từ xa.\n",
    "\n",
    "Tổng quan: \n",
    "- Cần tìm hiểu, phân tích chi tiết hơn để hiểu rõ hơn về tại sao có sự biến động đột ngột trong năm 2023.\n",
    "- Có thể đề xuất thêm yếu tố như vùng địa lý, ngành nghề, hoặc các yếu tố ngoại vi khác để có cái nhìn toàn diện hơn về tình hình làm việc từ xa trong lĩnh vực Data Science."
   ]
  },
  {
   "cell_type": "markdown",
   "id": "2cc77cfe-43ab-4c38-96db-6fad0c97e34e",
   "metadata": {},
   "source": [
    "### Câu hỏi 2: \"Liệu mức lương trong lĩnh vực Data Science có sự khác biệt đáng kể giữa các quốc gia, và có mối liên quan nào giữa mức lương và kích thước công ty không?\"\n",
    "\n",
    "Tiền xử lý:\n",
    "\n",
    "- Chọn cột liên quan: Chọn cột \"salary_in_usd\", \"employee_residence\", và \"company_size\" từ DataFrame.\n",
    "- Xử lý giá trị thiếu: Kiểm tra và xử lý giá trị thiếu trong các cột cần thiết.\n",
    "- Kiểm tra và xử lý dữ liệu không hợp lý: Đảm bảo rằng \"salary_in_usd\" không chứa các giá trị âm hoặc không hợp lý. Kiểm tra tính hợp lý của \"employee_residence\" và \"company_size\".\n",
    "  \n",
    "Phân tích dữ liệu:\n",
    "\n",
    "- Phân loại dữ liệu: Phân loại dữ liệu theo quốc gia cư trú và kích thước công ty.\n",
    "- Tính trung bình mức lương theo quốc gia: Tính giá trị trung bình của cột \"salary_in_usd\" cho từng quốc gia.\n",
    "- Tính trung bình mức lương theo kích thước công ty: Tính giá trị trung bình của \"salary_in_usd\" cho từng phân khúc kích thước công ty."
   ]
  },
  {
   "cell_type": "code",
   "execution_count": 14,
   "id": "2d14b6a5-0457-4fbb-a6ac-24b68f78915c",
   "metadata": {},
   "outputs": [
    {
     "name": "stdout",
     "output_type": "stream",
     "text": [
      "Trung bình mức lương theo quốc gia:\n",
      "employee_residence\n",
      "AD     50745.000000\n",
      "AE    100000.000000\n",
      "AM     33500.000000\n",
      "AR     56444.444444\n",
      "AS     45555.000000\n",
      "          ...      \n",
      "UG     36000.000000\n",
      "US    157954.720049\n",
      "UZ     82000.000000\n",
      "VN     56733.333333\n",
      "ZA     62935.400000\n",
      "Name: salary_in_usd, Length: 86, dtype: float64\n",
      "\n",
      "Trung bình mức lương theo kích thước công ty:\n",
      "company_size\n",
      "L    137034.810036\n",
      "M    151464.452900\n",
      "S     87513.847953\n",
      "Name: salary_in_usd, dtype: float64\n"
     ]
    }
   ],
   "source": [
    "# Tiền xử lý\n",
    "questions2_columns = [\"salary_in_usd\", \"employee_residence\", \"company_size\"]\n",
    "salary_df = df[questions2_columns].copy()\n",
    "\n",
    "# Xử lý giá trị thiếu\n",
    "salary_df.dropna(subset=[\"salary_in_usd\"], inplace=True)\n",
    "\n",
    "# Kiểm tra và xử lý giá trị không hợp lý\n",
    "salary_df = salary_df[salary_df[\"salary_in_usd\"] > 0]\n",
    "\n",
    "# Phân tích dữ liệu\n",
    "average_salary_by_country = salary_df.groupby(\"employee_residence\")[\"salary_in_usd\"].mean()\n",
    "average_salary_by_size = salary_df.groupby(\"company_size\")[\"salary_in_usd\"].mean()\n",
    "\n",
    "# In kết quả\n",
    "print(\"Trung bình mức lương theo quốc gia:\")\n",
    "print(average_salary_by_country)\n",
    "\n",
    "print(\"\\nTrung bình mức lương theo kích thước công ty:\")\n",
    "print(average_salary_by_size)"
   ]
  },
  {
   "cell_type": "markdown",
   "id": "eea856ed-959e-44e5-873d-e3b97609848c",
   "metadata": {},
   "source": [
    "### Nhận xét\n",
    "Trung bình mức lương theo quốc gia: \n",
    "- Mức lương trung bình có sự biến động lớn giữa các quốc gia. Ví dụ, mức lương trung bình ở Các Tiểu vương quốc Ả Rập Thống nhất (AE) cao nhất với 100,000 USD, trong khi ở Uganda (UG) thấp nhất với 36,000 USD. Sự chênh lệch này có thể phản ánh sự khác biệt về chi phí sinh sống và thu nhập trung bình giữa các quốc gia.\n",
    "- Có thể cần phân tích chi tiết hơn để hiểu rõ hơn về các yếu tố ảnh hưởng đến mức lương trong từng quốc gia, chẳng hạn như chính sách lương, thị trường lao động, và mức độ phát triển kinh tế.\n",
    "  \n",
    "Trung bình mức lương theo kích thước công ty: \n",
    "- Có sự chênh lệch đáng kể về mức lương trung bình giữa các kích thước công ty. Các công ty lớn (L) có mức lương trung bình cao nhất với 137,034.81 USD, theo sau là các công ty trung bình (M) với 151,464.45 USD, và cuối cùng là các công ty nhỏ (S) với 87,513.85 USD.\n",
    "- Có thể giải thích sự chênh lệch này bằng sự khác biệt về khả năng tài chính, chiến lược lương của từng loại công ty, và đặc điểm của người làm việc trong từng loại công ty.\n",
    "  \n",
    "Nhận xét tổng quan: \n",
    "- Để hiểu rõ hơn về mức lương, có thể thêm yếu tố như trình độ học vấn, kinh nghiệm làm việc, và loại công việc để có cái nhìn chi tiết hơn về yếu tố ảnh hưởng đến mức lương trong lĩnh vực Data Science."
   ]
  }
 ],
 "metadata": {
  "kernelspec": {
   "display_name": "Python 3 (ipykernel)",
   "language": "python",
   "name": "python3"
  },
  "language_info": {
   "codemirror_mode": {
    "name": "ipython",
    "version": 3
   },
   "file_extension": ".py",
   "mimetype": "text/x-python",
   "name": "python",
   "nbconvert_exporter": "python",
   "pygments_lexer": "ipython3",
   "version": "3.11.5"
  }
 },
 "nbformat": 4,
 "nbformat_minor": 5
}
